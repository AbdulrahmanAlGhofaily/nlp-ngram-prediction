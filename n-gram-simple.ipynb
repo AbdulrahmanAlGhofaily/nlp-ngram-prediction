{
 "cells": [
  {
   "cell_type": "code",
   "execution_count": 53,
   "metadata": {},
   "outputs": [
    {
     "name": "stdout",
     "output_type": "stream",
     "text": [
      "Next word: إلى\n"
     ]
    }
   ],
   "source": [
    "import re\n",
    "import random\n",
    "from collections import Counter\n",
    "\n",
    "# Read the sample file\n",
    "with open('sample.txt', encoding='utf-8') as f:\n",
    "    text = f.read()\n",
    "\n",
    "# Preprocess the text\n",
    "text = re.sub(r'[^\\w\\s]','',text) # Remove punctuation\n",
    "text = text.lower() # Convert all text to lowercase\n",
    "\n",
    "# Split the text into tokens (words)\n",
    "tokens = text.split()\n",
    "\n",
    "# Define the n-gram order\n",
    "n = 2\n",
    "\n",
    "# Build the n-grams dictionary\n",
    "ngrams_dict = {}\n",
    "for i in range(len(tokens)-n+1):\n",
    "    ngram = tuple(tokens[i:i+n])\n",
    "    if ngram in ngrams_dict:\n",
    "        ngrams_dict[ngram] += 1\n",
    "    else:\n",
    "        ngrams_dict[ngram] = 1\n",
    "\n",
    "# Get the input from the user\n",
    "input_word = input(\"Enter a word: \")\n",
    "\n",
    "# Find the n-grams that start with the input word\n",
    "ngrams_starting_with_input = [ngram for ngram in ngrams_dict.keys() if ngram[0] == input_word]\n",
    "\n",
    "# If there are no matching n-grams, print an error message\n",
    "if len(ngrams_starting_with_input) == 0:\n",
    "    print(\"No prediction found for the given input.\")\n",
    "else:\n",
    "    # Find the most frequent n-gram\n",
    "    most_common_gram = Counter(ngrams_starting_with_input).most_common(1)[0][0]\n",
    "    \n",
    "    # Predict the next word based on the most frequent n-gram\n",
    "    next_word = most_common_gram[-1]\n",
    "    \n",
    "    # Print the prediction\n",
    "    print(\"Next word:\", next_word)\n"
   ]
  },
  {
   "cell_type": "code",
   "execution_count": null,
   "metadata": {},
   "outputs": [],
   "source": []
  }
 ],
 "metadata": {
  "kernelspec": {
   "display_name": "nlp-env",
   "language": "python",
   "name": "python3"
  },
  "language_info": {
   "codemirror_mode": {
    "name": "ipython",
    "version": 3
   },
   "file_extension": ".py",
   "mimetype": "text/x-python",
   "name": "python",
   "nbconvert_exporter": "python",
   "pygments_lexer": "ipython3",
   "version": "3.11.2"
  },
  "orig_nbformat": 4
 },
 "nbformat": 4,
 "nbformat_minor": 2
}
