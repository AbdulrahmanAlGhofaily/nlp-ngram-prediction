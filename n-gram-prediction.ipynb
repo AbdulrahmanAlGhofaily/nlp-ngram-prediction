{
 "cells": [
  {
   "cell_type": "code",
   "execution_count": 18,
   "metadata": {},
   "outputs": [],
   "source": [
    "import gensim\n",
    "import codecs\n",
    "import re\n",
    "from tashaphyne.stemming import ArabicLightStemmer\n",
    "from pyarabic.araby import strip_tashkeel\n",
    "from nltk.util import ngrams\n",
    "import nltk\n",
    "\n",
    "# Load the Arabic Wikipedia dump file\n",
    "wiki_dump_path = \"arwiki-20180120-pages-articles-multistream.xml.bz2\"\n",
    "wiki_corpus = gensim.corpora.WikiCorpus(wiki_dump_path, dictionary={})\n",
    "\n",
    "# Preprocess the corpus\n",
    "def preprocess(text):\n",
    "    text = ' '.join(text)  # join the list of tokens into a string\n",
    "    tokens = text.split()  # split the text into tokens\n",
    "    # apply strip_tashkeel to each token individually\n",
    "    tokens = [strip_tashkeel(token) for token in tokens]\n",
    "    text = ' '.join(tokens)  # join the tokens back into a string\n",
    "    text = text.replace('\\n', ' ')  # replace newline characters with spaces\n",
    "    text = re.sub('[^ء-ي ]+', '', text)  # remove non-Arabic characters\n",
    "    text = ' '.join(ArabicLightStemmer().light_stem(text))  # stem the words using Tashaphyne\n",
    "    return text.strip()\n",
    "\n",
    "\n",
    "\n",
    "preprocessed_corpus = [preprocess(text) for text in wiki_corpus.get_texts()]\n",
    "\n",
    "# Generate n-grams\n",
    "n = 3\n",
    "n_grams = []\n",
    "for text in preprocessed_corpus:\n",
    "    tokens = text.split()\n",
    "    n_grams += list(ngrams(tokens, n))\n",
    "\n",
    "# Generate frequency distribution\n",
    "freq_dist = nltk.FreqDist(n_grams)\n",
    "\n",
    "# Predict the next word based on the input phrase\n",
    "input_phrase = 'كيف حال'\n",
    "input_tokens = input_phrase.split()\n",
    "if len(input_tokens) == n - 1:\n",
    "    suggestions = []\n",
    "    for k, v in freq_dist.items():\n",
    "        if k[:n-1] == tuple(input_tokens):\n",
    "            suggestions.append((k[-1], v))\n",
    "    sorted_suggestions = sorted(suggestions, key=lambda x: x[1], reverse=True)\n",
    "    print('Predictions for \"{}\":'.format(input_phrase))\n",
    "    for suggestion in sorted_suggestions:\n",
    "        print('- {} ({})'.format(suggestion[0], suggestion[1]))\n",
    "else:\n",
    "    print('Input phrase must be {} words long'.format(n-1))\n"
   ]
  },
  {
   "cell_type": "code",
   "execution_count": 2,
   "metadata": {},
   "outputs": [],
   "source": [
    "import gensim\n",
    "import codecs\n",
    "import re\n",
    "from tashaphyne.stemming import ArabicLightStemmer\n",
    "from pyarabic.araby import strip_tashkeel\n",
    "from nltk.util import ngrams\n",
    "import nltk"
   ]
  },
  {
   "cell_type": "code",
   "execution_count": 4,
   "metadata": {},
   "outputs": [],
   "source": [
    "# Load the Arabic Wikipedia dump file\n",
    "wiki_dump_path = \"arwiki-20180120-pages-articles-multistream.xml.bz2\"\n",
    "wiki_corpus = gensim.corpora.WikiCorpus(wiki_dump_path, dictionary={})"
   ]
  },
  {
   "cell_type": "code",
   "execution_count": 5,
   "metadata": {},
   "outputs": [
    {
     "name": "stderr",
     "output_type": "stream",
     "text": [
      "c:\\Users\\abdul\\anaconda3\\lib\\site-packages\\gensim\\utils.py:1332: UserWarning: detected Windows; aliasing chunkize to chunkize_serial\n",
      "  warnings.warn(\"detected %s; aliasing chunkize to chunkize_serial\" % entity)\n"
     ]
    },
    {
     "ename": "KeyboardInterrupt",
     "evalue": "",
     "output_type": "error",
     "traceback": [
      "\u001b[1;31m---------------------------------------------------------------------------\u001b[0m",
      "\u001b[1;31mKeyboardInterrupt\u001b[0m                         Traceback (most recent call last)",
      "\u001b[1;32md:\\School\\NLP\\N-gram-prediction\\n-gram-prediction.ipynb Cell 4\u001b[0m in \u001b[0;36m<cell line: 12>\u001b[1;34m()\u001b[0m\n\u001b[0;32m      <a href='vscode-notebook-cell:/d%3A/School/NLP/N-gram-prediction/n-gram-prediction.ipynb#W3sZmlsZQ%3D%3D?line=8'>9</a>\u001b[0m     text \u001b[39m=\u001b[39m \u001b[39m'\u001b[39m\u001b[39m \u001b[39m\u001b[39m'\u001b[39m\u001b[39m.\u001b[39mjoin(ArabicLightStemmer()\u001b[39m.\u001b[39mlight_stem(text))  \u001b[39m# stem the words using Tashaphyne\u001b[39;00m\n\u001b[0;32m     <a href='vscode-notebook-cell:/d%3A/School/NLP/N-gram-prediction/n-gram-prediction.ipynb#W3sZmlsZQ%3D%3D?line=9'>10</a>\u001b[0m     \u001b[39mreturn\u001b[39;00m text\u001b[39m.\u001b[39mstrip()\n\u001b[1;32m---> <a href='vscode-notebook-cell:/d%3A/School/NLP/N-gram-prediction/n-gram-prediction.ipynb#W3sZmlsZQ%3D%3D?line=11'>12</a>\u001b[0m preprocessed_corpus \u001b[39m=\u001b[39m [preprocess(text) \u001b[39mfor\u001b[39;00m text \u001b[39min\u001b[39;00m wiki_corpus\u001b[39m.\u001b[39mget_texts()]\n",
      "\u001b[1;32md:\\School\\NLP\\N-gram-prediction\\n-gram-prediction.ipynb Cell 4\u001b[0m in \u001b[0;36m<listcomp>\u001b[1;34m(.0)\u001b[0m\n\u001b[0;32m      <a href='vscode-notebook-cell:/d%3A/School/NLP/N-gram-prediction/n-gram-prediction.ipynb#W3sZmlsZQ%3D%3D?line=8'>9</a>\u001b[0m     text \u001b[39m=\u001b[39m \u001b[39m'\u001b[39m\u001b[39m \u001b[39m\u001b[39m'\u001b[39m\u001b[39m.\u001b[39mjoin(ArabicLightStemmer()\u001b[39m.\u001b[39mlight_stem(text))  \u001b[39m# stem the words using Tashaphyne\u001b[39;00m\n\u001b[0;32m     <a href='vscode-notebook-cell:/d%3A/School/NLP/N-gram-prediction/n-gram-prediction.ipynb#W3sZmlsZQ%3D%3D?line=9'>10</a>\u001b[0m     \u001b[39mreturn\u001b[39;00m text\u001b[39m.\u001b[39mstrip()\n\u001b[1;32m---> <a href='vscode-notebook-cell:/d%3A/School/NLP/N-gram-prediction/n-gram-prediction.ipynb#W3sZmlsZQ%3D%3D?line=11'>12</a>\u001b[0m preprocessed_corpus \u001b[39m=\u001b[39m [preprocess(text) \u001b[39mfor\u001b[39;00m text \u001b[39min\u001b[39;00m wiki_corpus\u001b[39m.\u001b[39mget_texts()]\n",
      "\u001b[1;32md:\\School\\NLP\\N-gram-prediction\\n-gram-prediction.ipynb Cell 4\u001b[0m in \u001b[0;36mpreprocess\u001b[1;34m(text)\u001b[0m\n\u001b[0;32m      <a href='vscode-notebook-cell:/d%3A/School/NLP/N-gram-prediction/n-gram-prediction.ipynb#W3sZmlsZQ%3D%3D?line=6'>7</a>\u001b[0m text \u001b[39m=\u001b[39m text\u001b[39m.\u001b[39mreplace(\u001b[39m'\u001b[39m\u001b[39m\\n\u001b[39;00m\u001b[39m'\u001b[39m, \u001b[39m'\u001b[39m\u001b[39m \u001b[39m\u001b[39m'\u001b[39m)  \u001b[39m# replace newline characters with spaces\u001b[39;00m\n\u001b[0;32m      <a href='vscode-notebook-cell:/d%3A/School/NLP/N-gram-prediction/n-gram-prediction.ipynb#W3sZmlsZQ%3D%3D?line=7'>8</a>\u001b[0m text \u001b[39m=\u001b[39m re\u001b[39m.\u001b[39msub(\u001b[39m'\u001b[39m\u001b[39m[^ء-ي ]+\u001b[39m\u001b[39m'\u001b[39m, \u001b[39m'\u001b[39m\u001b[39m'\u001b[39m, text)  \u001b[39m# remove non-Arabic characters\u001b[39;00m\n\u001b[1;32m----> <a href='vscode-notebook-cell:/d%3A/School/NLP/N-gram-prediction/n-gram-prediction.ipynb#W3sZmlsZQ%3D%3D?line=8'>9</a>\u001b[0m text \u001b[39m=\u001b[39m \u001b[39m'\u001b[39m\u001b[39m \u001b[39m\u001b[39m'\u001b[39m\u001b[39m.\u001b[39mjoin(ArabicLightStemmer()\u001b[39m.\u001b[39mlight_stem(text))  \u001b[39m# stem the words using Tashaphyne\u001b[39;00m\n\u001b[0;32m     <a href='vscode-notebook-cell:/d%3A/School/NLP/N-gram-prediction/n-gram-prediction.ipynb#W3sZmlsZQ%3D%3D?line=9'>10</a>\u001b[0m \u001b[39mreturn\u001b[39;00m text\u001b[39m.\u001b[39mstrip()\n",
      "File \u001b[1;32mc:\\Users\\abdul\\anaconda3\\lib\\site-packages\\tashaphyne\\stemming.py:108\u001b[0m, in \u001b[0;36mArabicLightStemmer.__init__\u001b[1;34m(self)\u001b[0m\n\u001b[0;32m    106\u001b[0m \u001b[39mself\u001b[39m\u001b[39m.\u001b[39mtoken_pat \u001b[39m=\u001b[39m re\u001b[39m.\u001b[39mcompile(\u001b[39mu\u001b[39m\u001b[39m\"\u001b[39m\u001b[39m[^\u001b[39m\u001b[39m\\\u001b[39m\u001b[39mw\u001b[39m\u001b[39m\\u064b\u001b[39;00m\u001b[39m-\u001b[39m\u001b[39m\\u0652\u001b[39;00m\u001b[39m'\u001b[39m\u001b[39m]+\u001b[39m\u001b[39m\"\u001b[39m, re\u001b[39m.\u001b[39mUNICODE)\n\u001b[0;32m    107\u001b[0m \u001b[39mself\u001b[39m\u001b[39m.\u001b[39mprefixes_tree \u001b[39m=\u001b[39m \u001b[39mself\u001b[39m\u001b[39m.\u001b[39m_create_prefix_tree(\u001b[39mself\u001b[39m\u001b[39m.\u001b[39mprefix_list)\n\u001b[1;32m--> 108\u001b[0m \u001b[39mself\u001b[39m\u001b[39m.\u001b[39msuffixes_tree \u001b[39m=\u001b[39m \u001b[39mself\u001b[39;49m\u001b[39m.\u001b[39;49m_create_suffix_tree(\u001b[39mself\u001b[39;49m\u001b[39m.\u001b[39;49msuffix_list)\n",
      "File \u001b[1;32mc:\\Users\\abdul\\anaconda3\\lib\\site-packages\\tashaphyne\\stemming.py:915\u001b[0m, in \u001b[0;36mArabicLightStemmer._create_suffix_tree\u001b[1;34m(self, suffixes)\u001b[0m\n\u001b[0;32m    913\u001b[0m     \u001b[39mif\u001b[39;00m char \u001b[39mnot\u001b[39;00m \u001b[39min\u001b[39;00m branch:\n\u001b[0;32m    914\u001b[0m         branch[char] \u001b[39m=\u001b[39m {}\n\u001b[1;32m--> 915\u001b[0m     branch \u001b[39m=\u001b[39m branch[char]\n\u001b[0;32m    916\u001b[0m \u001b[39m# branch['#'] = '#' # the hash # as an end postion\u001b[39;00m\n\u001b[0;32m    917\u001b[0m \u001b[39mif\u001b[39;00m \u001b[39m\"\u001b[39m\u001b[39m#\u001b[39m\u001b[39m\"\u001b[39m \u001b[39min\u001b[39;00m branch:\n",
      "\u001b[1;31mKeyboardInterrupt\u001b[0m: "
     ]
    }
   ],
   "source": [
    "def preprocess(text):\n",
    "    text = ' '.join(text)  # join the list of tokens into a string\n",
    "    tokens = text.split()  # split the text into tokens\n",
    "    # apply strip_tashkeel to each token individually\n",
    "    tokens = [strip_tashkeel(token) for token in tokens]\n",
    "    text = ' '.join(tokens)  # join the tokens back into a string\n",
    "    text = text.replace('\\n', ' ')  # replace newline characters with spaces\n",
    "    text = re.sub('[^ء-ي ]+', '', text)  # remove non-Arabic characters\n",
    "    text = ' '.join(ArabicLightStemmer().light_stem(text))  # stem the words using Tashaphyne\n",
    "    return text.strip()\n",
    "\n",
    "preprocessed_corpus = [preprocess(text) for text in wiki_corpus.get_texts()]"
   ]
  },
  {
   "cell_type": "code",
   "execution_count": 1,
   "metadata": {},
   "outputs": [
    {
     "ename": "NameError",
     "evalue": "name 'preprocessed_corpus' is not defined",
     "output_type": "error",
     "traceback": [
      "\u001b[1;31m---------------------------------------------------------------------------\u001b[0m",
      "\u001b[1;31mNameError\u001b[0m                                 Traceback (most recent call last)",
      "\u001b[1;32md:\\School\\NLP\\N-gram-prediction\\n-gram-prediction.ipynb Cell 5\u001b[0m in \u001b[0;36m<cell line: 4>\u001b[1;34m()\u001b[0m\n\u001b[0;32m      <a href='vscode-notebook-cell:/d%3A/School/NLP/N-gram-prediction/n-gram-prediction.ipynb#W4sZmlsZQ%3D%3D?line=1'>2</a>\u001b[0m n \u001b[39m=\u001b[39m \u001b[39m3\u001b[39m\n\u001b[0;32m      <a href='vscode-notebook-cell:/d%3A/School/NLP/N-gram-prediction/n-gram-prediction.ipynb#W4sZmlsZQ%3D%3D?line=2'>3</a>\u001b[0m n_grams \u001b[39m=\u001b[39m []\n\u001b[1;32m----> <a href='vscode-notebook-cell:/d%3A/School/NLP/N-gram-prediction/n-gram-prediction.ipynb#W4sZmlsZQ%3D%3D?line=3'>4</a>\u001b[0m \u001b[39mfor\u001b[39;00m text \u001b[39min\u001b[39;00m preprocessed_corpus:\n\u001b[0;32m      <a href='vscode-notebook-cell:/d%3A/School/NLP/N-gram-prediction/n-gram-prediction.ipynb#W4sZmlsZQ%3D%3D?line=4'>5</a>\u001b[0m     tokens \u001b[39m=\u001b[39m text\u001b[39m.\u001b[39msplit()\n\u001b[0;32m      <a href='vscode-notebook-cell:/d%3A/School/NLP/N-gram-prediction/n-gram-prediction.ipynb#W4sZmlsZQ%3D%3D?line=5'>6</a>\u001b[0m     n_grams \u001b[39m+\u001b[39m\u001b[39m=\u001b[39m \u001b[39mlist\u001b[39m(ngrams(tokens, n))\n",
      "\u001b[1;31mNameError\u001b[0m: name 'preprocessed_corpus' is not defined"
     ]
    }
   ],
   "source": [
    "# Generate n-grams\n",
    "n = 3\n",
    "n_grams = []\n",
    "for text in preprocessed_corpus:\n",
    "    tokens = text.split()\n",
    "    n_grams += list(ngrams(tokens, n))"
   ]
  },
  {
   "cell_type": "code",
   "execution_count": null,
   "metadata": {},
   "outputs": [],
   "source": [
    "# Generate frequency distribution\n",
    "freq_dist = nltk.FreqDist(n_grams)"
   ]
  },
  {
   "cell_type": "code",
   "execution_count": null,
   "metadata": {},
   "outputs": [],
   "source": [
    "# Predict the next word based on the input phrase\n",
    "input_phrase = 'كيف حال'\n",
    "input_tokens = input_phrase.split()\n",
    "if len(input_tokens) == n - 1:\n",
    "    suggestions = []\n",
    "    for k, v in freq_dist.items():\n",
    "        if k[:n-1] == tuple(input_tokens):\n",
    "            suggestions.append((k[-1], v))\n",
    "    sorted_suggestions = sorted(suggestions, key=lambda x: x[1], reverse=True)\n",
    "    print('Predictions for \"{}\":'.format(input_phrase))\n",
    "    for suggestion in sorted_suggestions:\n",
    "        print('- {} ({})'.format(suggestion[0], suggestion[1]))\n",
    "else:\n",
    "    print('Input phrase must be {} words long'.format(n-1))"
   ]
  },
  {
   "cell_type": "code",
   "execution_count": 40,
   "metadata": {},
   "outputs": [
    {
     "name": "stdout",
     "output_type": "stream",
     "text": [
      "Predictions for \"العالم يحتوي\":\n"
     ]
    }
   ],
   "source": [
    "import gensim\n",
    "import re\n",
    "from tashaphyne.stemming import ArabicLightStemmer\n",
    "from pyarabic.araby import strip_tashkeel\n",
    "from nltk.util import ngrams\n",
    "import nltk\n",
    "\n",
    "# Load the sample text file\n",
    "with open('sample.txt', 'r', encoding='utf-8') as f:\n",
    "    sample_text = f.read()\n",
    "\n",
    "# Preprocess the corpus\n",
    "def preprocess(text):\n",
    "    tokens = text.split()  # split the text into tokens\n",
    "    # apply strip_tashkeel to each token individually\n",
    "    tokens = [strip_tashkeel(token) for token in tokens]\n",
    "    text = ' '.join(tokens)  # join the tokens back into a string\n",
    "    text = re.sub('[^ء-ي ]+', '', text)  # remove non-Arabic characters\n",
    "    text = ' '.join(ArabicLightStemmer().light_stem(text))  # stem the words using Tashaphyne\n",
    "    return text.strip()\n",
    "\n",
    "preprocessed_text = preprocess(sample_text)\n",
    "\n",
    "# Generate n-grams\n",
    "n = 3\n",
    "n_grams = list(ngrams(preprocessed_text.split(), n))\n",
    "\n",
    "# Generate frequency distribution\n",
    "freq_dist = nltk.FreqDist(n_grams)\n",
    "\n",
    "# Predict the next word based on the input phrase\n",
    "input_phrase = 'العالم يحتوي'\n",
    "input_tokens = input_phrase.split()\n",
    "if len(input_tokens) == n - 1:\n",
    "    suggestions = []\n",
    "    for k, v in freq_dist.items():\n",
    "        if k[:n-1] == tuple(input_tokens):\n",
    "            suggestions.append((k[-1], v))\n",
    "    sorted_suggestions = sorted(suggestions, key=lambda x: x[1], reverse=True)\n",
    "    print('Predictions for \"{}\":'.format(input_phrase))\n",
    "    for suggestion in sorted_suggestions:\n",
    "        print('- {} ({})'.format(suggestion[0], suggestion[1]))\n",
    "else:\n",
    "    print('Input phrase must be {} words long'.format(n-1))\n"
   ]
  },
  {
   "cell_type": "code",
   "execution_count": 47,
   "metadata": {},
   "outputs": [
    {
     "name": "stdout",
     "output_type": "stream",
     "text": [
      "Next word: أحب\n"
     ]
    }
   ],
   "source": [
    "import nltk\n",
    "from nltk.util import ngrams\n",
    "from collections import defaultdict\n",
    "\n",
    "# Sample input sentence\n",
    "sentence = \"أنا أحب اللغة العربية\"\n",
    "\n",
    "# Split the sentence into words\n",
    "words = sentence.split()\n",
    "\n",
    "# Create a list of n-grams from the sentence\n",
    "n = 2\n",
    "grams = list(ngrams(words, n))\n",
    "\n",
    "# Create a dictionary to store the frequency of each n-gram\n",
    "freq_dict = defaultdict(int)\n",
    "for gram in grams:\n",
    "    freq_dict[gram] += 1\n",
    "\n",
    "# Get the most frequent n-gram\n",
    "most_common_gram = max(freq_dict, key=freq_dict.get)\n",
    "\n",
    "# Predict the next word based on the most frequent n-gram\n",
    "next_word = most_common_gram[-1]\n",
    "\n",
    "print(\"Next word:\", next_word)\n"
   ]
  }
 ],
 "metadata": {
  "kernelspec": {
   "display_name": "base",
   "language": "python",
   "name": "python3"
  },
  "language_info": {
   "codemirror_mode": {
    "name": "ipython",
    "version": 3
   },
   "file_extension": ".py",
   "mimetype": "text/x-python",
   "name": "python",
   "nbconvert_exporter": "python",
   "pygments_lexer": "ipython3",
   "version": "3.9.12"
  },
  "orig_nbformat": 4
 },
 "nbformat": 4,
 "nbformat_minor": 2
}
